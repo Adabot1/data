{
 "cells": [
  {
   "cell_type": "markdown",
   "metadata": {},
   "source": [
    "# 1.导入所需要的包"
   ]
  },
  {
   "cell_type": "code",
   "execution_count": 1,
   "metadata": {},
   "outputs": [],
   "source": [
    "import json\n",
    "import pickle"
   ]
  },
  {
   "cell_type": "markdown",
   "metadata": {},
   "source": [
    "# 2.数据读取"
   ]
  },
  {
   "cell_type": "code",
   "execution_count": 2,
   "metadata": {},
   "outputs": [],
   "source": [
    "with open('./classes/all_class', 'rb') as f:  # 读取原始数据类名\n",
    "    all_class_ls = pickle.load(f)\n",
    "    \n",
    "# 处理类名\n",
    "all_class_ls_pro = [c.replace('.', '_').replace(\"/\", \"_\") for c in all_class_ls]\n",
    "# 拼凑路径\n",
    "all_class_path = [r'./api/' + c + r'.json' for c in all_class_ls_pro]\n",
    "# 读取所有api\n",
    "all_api = []\n",
    "api_data = {}\n",
    "data = {}\n",
    "for a in all_class_path:\n",
    "    with open(a, \"r\") as f:\n",
    "        data = json.load(f)[\"API\"]\n",
    "        if(len(data) != 0):\n",
    "            for d in data:\n",
    "                all_api.append(d)\n",
    "    api_data.clear()"
   ]
  },
  {
   "cell_type": "markdown",
   "metadata": {},
   "source": [
    "### 简单测试"
   ]
  },
  {
   "cell_type": "code",
   "execution_count": 3,
   "metadata": {},
   "outputs": [
    {
     "name": "stdout",
     "output_type": "stream",
     "text": [
      "Variable           Type             Data/Info\n",
      "---------------------------------------------\n",
      "a                  str              ./api/javax_security_cert_X509Certificate.json\n",
      "all_api            list             n=10317\n",
      "all_class_ls       list             n=889\n",
      "all_class_ls_pro   list             n=889\n",
      "all_class_path     list             n=889\n",
      "api_data           dict             n=0\n",
      "d                  dict             n=3\n",
      "data               list             n=13\n",
      "f                  TextIOWrapper    <_io.TextIOWrapper name='<...>ode='r' encoding='UTF-8'>\n",
      "json               module           <module 'json' from '/hom<...>hon3.7/json/__init__.py'>\n",
      "pickle             module           <module 'pickle' from '/h<...>lib/python3.7/pickle.py'>\n",
      "-----------------------------------\n",
      "{'Comments': 'Closes this stream and releases any system resources associated with it.', 'Function': 'close()', 'Modifier and Type': 'void'}\n"
     ]
    }
   ],
   "source": [
    "%whos\n",
    "print(\"-----------------------------------\")\n",
    "print(all_api[0])"
   ]
  },
  {
   "cell_type": "markdown",
   "metadata": {},
   "source": [
    "# 3.数据处理"
   ]
  },
  {
   "cell_type": "markdown",
   "metadata": {},
   "source": [
    "### 提取参数函数"
   ]
  },
  {
   "cell_type": "code",
   "execution_count": 4,
   "metadata": {},
   "outputs": [],
   "source": [
    "def extractPra(all_api_erasure):\n",
    "    '''\n",
    "    提取参数，返回处理好的参数数组，每一项为每一个函数的参数\n",
    "    '''\n",
    "    j = []\n",
    "    k = []\n",
    "    n = []\n",
    "    for a in all_api_erasure:\n",
    "        f = a[\"Function\"]\n",
    "        inde_s = f.index(\"(\")\n",
    "        inde_e = f.index(\")\")\n",
    "        k = f[inde_s+1: inde_e].split(\",\")\n",
    "        for i in k:\n",
    "            j.append(i.strip().split(\" \")[0])\n",
    "        n.append(j)\n",
    "        j = []\n",
    "    return n"
   ]
  },
  {
   "cell_type": "markdown",
   "metadata": {},
   "source": [
    "### 参数提取及数据处理"
   ]
  },
  {
   "cell_type": "code",
   "execution_count": 5,
   "metadata": {},
   "outputs": [],
   "source": [
    "all_api_processed = []  # 用于储存完全处理之后的API\n",
    "all_api_erasure = []  # 储存剔除字段之后的API\n",
    "temp_single_api = {} # 临时单个API\n",
    "# 剔除字段\n",
    "for a in all_api:\n",
    "    if \"(\" in a[\"Function\"]:\n",
    "        all_api_erasure.append(a)\n",
    "# 提取参数\n",
    "pram = extractPra(all_api_erasure)\n",
    "# 保存数据格式处理\n",
    "for i in range(len(all_api_erasure)):\n",
    "    # 单个API处理\n",
    "    temp = all_api_erasure[i][\"Function\"]\n",
    "    temp_single_api[\"function\"] = temp[:temp.index(\"(\")]\n",
    "    temp_single_api[\"parameters\"] = pram[i]\n",
    "    temp_single_api[\"comments\"] = all_api_erasure[i][\"Comments\"]\n",
    "    # 增入处理完成的列表\n",
    "    all_api_processed.append(temp_single_api)\n",
    "    temp_single_api = {} # 清空"
   ]
  },
  {
   "cell_type": "markdown",
   "metadata": {},
   "source": [
    "# 4.数据保存"
   ]
  },
  {
   "cell_type": "markdown",
   "metadata": {},
   "source": [
    "### 查看数据"
   ]
  },
  {
   "cell_type": "code",
   "execution_count": 6,
   "metadata": {},
   "outputs": [
    {
     "name": "stdout",
     "output_type": "stream",
     "text": [
      "{'function': 'close', 'parameters': [''], 'comments': 'Closes this stream and releases any system resources associated with it.'}\n",
      "{'function': 'readBoolean', 'parameters': [''], 'comments': 'Reads one input byte and returns true if that byte is nonzero, false if that byte is zero.'}\n",
      "{'function': 'readByte', 'parameters': [''], 'comments': 'Reads and returns one input byte.'}\n",
      "{'function': 'readChar', 'parameters': [''], 'comments': 'Reads two input bytes and returns a char value.'}\n",
      "{'function': 'readDouble', 'parameters': [''], 'comments': 'Reads eight input bytes and returns a double value.'}\n",
      "{'function': 'readFloat', 'parameters': [''], 'comments': 'Reads four input bytes and returns a float value.'}\n",
      "{'function': 'readFully', 'parameters': ['byte[]'], 'comments': 'Reads some bytes from an input stream and stores them into the buffer array b.'}\n",
      "{'function': 'readFully', 'parameters': ['byte[]', 'int', 'int'], 'comments': 'Reads len bytes from an input stream.'}\n",
      "{'function': 'readInt', 'parameters': [''], 'comments': 'Reads four input bytes and returns an int value.'}\n",
      "{'function': 'readLine', 'parameters': [''], 'comments': 'Reads the next line of text from the input stream.'}\n",
      "{'function': 'readLong', 'parameters': [''], 'comments': 'Reads eight input bytes and returns a long value.'}\n",
      "{'function': 'readShort', 'parameters': [''], 'comments': 'Reads two input bytes and returns a short value.'}\n",
      "{'function': 'readUnsignedByte', 'parameters': [''], 'comments': 'Reads one input byte, zero-extends it to type int, and returns the result, which is therefore in the range 0 through 255.'}\n",
      "{'function': 'readUnsignedShort', 'parameters': [''], 'comments': 'Reads two input bytes and returns an int value in the range 0 through 65535.'}\n",
      "{'function': 'readUTF', 'parameters': [''], 'comments': 'Reads in a string that has been encoded using a modified UTF-8 format.'}\n",
      "{'function': 'skipBytes', 'parameters': ['int'], 'comments': 'Makes an attempt to skip over n bytes of data from the input stream, discarding the skipped bytes.'}\n",
      "{'function': 'write', 'parameters': ['byte[]'], 'comments': 'Writes to the output stream all the bytes in array b.'}\n",
      "{'function': 'write', 'parameters': ['byte[]', 'int', 'int'], 'comments': 'Writes len bytes from array b, in order,  to the output stream.'}\n",
      "{'function': 'write', 'parameters': ['int'], 'comments': 'Writes to the output stream the eight low-order bits of the argument b.'}\n",
      "{'function': 'writeBoolean', 'parameters': ['boolean'], 'comments': 'Writes a boolean value to this output stream.'}\n"
     ]
    }
   ],
   "source": [
    "for i in range(20):\n",
    "    print(all_api_processed[i])"
   ]
  },
  {
   "cell_type": "markdown",
   "metadata": {},
   "source": [
    "### 写入json"
   ]
  },
  {
   "cell_type": "code",
   "execution_count": 7,
   "metadata": {},
   "outputs": [],
   "source": [
    "with open(r\"./api_doc_processd_pram/api_doc_processd_pram.json\", \"w\") as f:\n",
    "    json.dump(all_api_processed, f, indent=4)"
   ]
  }
 ],
 "metadata": {
  "kernelspec": {
   "display_name": "Python 3",
   "language": "python",
   "name": "python3"
  },
  "language_info": {
   "codemirror_mode": {
    "name": "ipython",
    "version": 3
   },
   "file_extension": ".py",
   "mimetype": "text/x-python",
   "name": "python",
   "nbconvert_exporter": "python",
   "pygments_lexer": "ipython3",
   "version": "3.7.3"
  }
 },
 "nbformat": 4,
 "nbformat_minor": 2
}
